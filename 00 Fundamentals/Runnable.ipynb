{
  "nbformat": 4,
  "nbformat_minor": 0,
  "metadata": {
    "colab": {
      "name": "Runnable.ipynb",
      "provenance": [],
      "collapsed_sections": []
    },
    "kernelspec": {
      "name": "python3",
      "display_name": "Python 3"
    },
    "language_info": {
      "name": "python"
    }
  },
  "cells": [
    {
      "cell_type": "markdown",
      "metadata": {
        "id": "9o2AGI_wCLB5"
      },
      "source": [
        "**Notes and Reference**\n",
        "\n",
        "- This is my personal android dev learning notebook.\n",
        "- Study of `delayedPost()` and `Runnable`\n",
        "  - Coding in Flow (2018) Delay and Repeat Code Execution with Handler PostDelayed - Android Studio Tutorial https://www.youtube.com/watch?v=3pgGVBmSVq0&ab_channel=CodinginFlow"
      ]
    },
    {
      "cell_type": "markdown",
      "metadata": {
        "id": "yYL8sij4CcS_"
      },
      "source": [
        "# 1 `Runnable`\n",
        "The `Runnable` interface should be implemented by any class whose instances are intended to be executed by a `thread`. **The class must define a method of no arguments called `run`**.\n",
        "\n",
        "This interface is designed to provide a common protocol **for objects that wish to execute code while they are active**. For example, `Runnable` is implemented by class `Thread`. **Being active simply means that a `thread` has been started and has not yet been stopped**.\n",
        "\n",
        "In addition, `Runnable` provides the means for a class to be active **while not subclassing `Thread`**. A class that implements `Runnable` can run without subclassing Thread by instantiating a `Thread` instance and passing itself in as the target. In most cases, **the `Runnable` interface should be used if you are only planning to override the `run()` method and no other `Thread` methods**. This is important because classes should not be subclassed unless the programmer intends on modifying or enhancing the fundamental behavior of the class.\n"
      ]
    },
    {
      "cell_type": "markdown",
      "metadata": {
        "id": "9ZZpP128C_Ur"
      },
      "source": [
        "## Examples\n",
        "Compare: "
      ]
    },
    {
      "cell_type": "code",
      "metadata": {
        "id": "BZrsndvcDDuD"
      },
      "source": [
        "# Runnable 1 - Animation handler\n",
        "        new Handler().postDelayed(new Runnable() {\n",
        "            @Override\n",
        "            public void run() {\n",
        "                Intent i = new Intent(SplashScreen.this, DetectorActivity.class);\n",
        "                startActivity(i);\n",
        "                finish();\n",
        "            }\n",
        "        }, 3000);"
      ],
      "execution_count": null,
      "outputs": []
    },
    {
      "cell_type": "code",
      "metadata": {
        "id": "D_2ZCJ6pBo0l"
      },
      "source": [
        "# Runnable 2 - Animation handler\n",
        "        new Handler().postDelayed(new Runnable() {\n",
        "            @Override\n",
        "            public void run() {\n",
        "                // Redirect to main activity\n",
        "                startActivity(new Intent(SplashScreen.this,\n",
        "                        MainActivity.class)\n",
        "                .setFlags(Intent.FLAG_ACTIVITY_NEW_TASK));\n",
        "                // Finish activity\n",
        "                finish();\n",
        "            }\n",
        "        }, 4000);"
      ],
      "execution_count": null,
      "outputs": []
    },
    {
      "cell_type": "markdown",
      "metadata": {
        "id": "XuMRjUV2DEOL"
      },
      "source": [
        "## `this`\n",
        "- When a `Runnable` object is created, it comes in a package with a function which it will run.\n",
        "- The keyword '`this`' will point to the object that is closest to itself: meaning,\n",
        "    - the inner most object or method that encloses it.\n",
        "- So without being preceded by '`MainActivity`', this will point to this `Runnable`."
      ]
    },
    {
      "cell_type": "code",
      "metadata": {
        "id": "-EF9s73vDE9y"
      },
      "source": [
        "    private Runnable mToastRunnable = new Runnable() {\n",
        "        @Override\n",
        "        public void run() {\n",
        "            Toast.makeText(MainActivity.this, \n",
        "                           String.format(\"Toast appearing after %f seconds\", delay/1000), \n",
        "                           Toast.LENGTH_SHORT).show();\n",
        "        }\n",
        "    };"
      ],
      "execution_count": null,
      "outputs": []
    }
  ]
}