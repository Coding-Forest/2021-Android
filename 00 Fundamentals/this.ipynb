{
  "nbformat": 4,
  "nbformat_minor": 0,
  "metadata": {
    "colab": {
      "name": "this.ipynb",
      "provenance": [],
      "collapsed_sections": [],
      "toc_visible": true
    },
    "kernelspec": {
      "name": "python3",
      "display_name": "Python 3"
    },
    "language_info": {
      "name": "python"
    }
  },
  "cells": [
    {
      "cell_type": "markdown",
      "metadata": {
        "id": "XuMRjUV2DEOL"
      },
      "source": [
        "# `this`\n",
        "- When a `Runnable` object is created, it comes in a package with a function which it will run.\n",
        "- The keyword '`this`' will point to the object that is closest to itself: meaning,\n",
        "    - the inner most object or method that encloses it.\n",
        "- So without being preceded by '`MainActivity`', this will point to this `Runnable`."
      ]
    },
    {
      "cell_type": "markdown",
      "metadata": {
        "id": "Fpd2yXg10Rxm"
      },
      "source": [
        "## Example 1. `MainActivity.java` class"
      ]
    },
    {
      "cell_type": "code",
      "metadata": {
        "id": "-EF9s73vDE9y"
      },
      "source": [
        "    private Runnable mToastRunnable = new Runnable() {\n",
        "        @Override\n",
        "        public void run() {\n",
        "            Toast.makeText(MainActivity.this, \n",
        "                           String.format(\"Toast appearing after %f seconds\", delay/1000), \n",
        "                           Toast.LENGTH_SHORT).show();\n",
        "        }\n",
        "    };"
      ],
      "execution_count": null,
      "outputs": []
    },
    {
      "cell_type": "markdown",
      "metadata": {
        "id": "DqblcWbOCeZv"
      },
      "source": [
        "## Example 2. `mToastRunnable` object"
      ]
    },
    {
      "cell_type": "code",
      "metadata": {
        "id": "PNIgBcZy0Y7o"
      },
      "source": [
        "    private Runnable mToastRunnable = new Runnable() {\n",
        "        @Override\n",
        "        public void run() {\n",
        "            Toast.makeText(MainActivity.this, \n",
        "                           String.format(\"Toast appearing after %x seconds\", delay), \n",
        "                           Toast.LENGTH_SHORT).show();\n",
        "            mHandler.postDelayed(this, 5000);\n",
        "        }\n",
        "    };"
      ],
      "execution_count": null,
      "outputs": []
    }
  ]
}